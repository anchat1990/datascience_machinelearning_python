{
 "cells": [
  {
   "cell_type": "markdown",
   "metadata": {
    "deletable": true,
    "editable": true
   },
   "source": [
    "# Mean, Median, Mode, and introducing NumPy"
   ]
  },
  {
   "cell_type": "markdown",
   "metadata": {
    "deletable": true,
    "editable": true
   },
   "source": [
    "## Mean vs. Median"
   ]
  },
  {
   "cell_type": "markdown",
   "metadata": {
    "deletable": true,
    "editable": true
   },
   "source": [
    "Let's create some fake income data, centered around 27,000 with a normal distribution and standard deviation of 15,000, with 10,000 data points. (We'll discuss those terms more later, if you're not familiar with them.)\n",
    "\n",
    "Then, compute the mean (average) - it should be close to 27,000:"
   ]
  },
  {
   "cell_type": "code",
   "execution_count": 1,
   "metadata": {
    "collapsed": false,
    "deletable": true,
    "editable": true
   },
   "outputs": [
    {
     "data": {
      "text/plain": [
       "27238.294012529073"
      ]
     },
     "execution_count": 1,
     "metadata": {},
     "output_type": "execute_result"
    }
   ],
   "source": [
    "import numpy as np\n",
    "\n",
    "incomes = np.random.normal(27000, 15000, 10000)\n",
    "np.mean(incomes)"
   ]
  },
  {
   "cell_type": "markdown",
   "metadata": {
    "deletable": true,
    "editable": true
   },
   "source": [
    "We can segment the income data into 50 buckets, and plot it as a histogram:"
   ]
  },
  {
   "cell_type": "code",
   "execution_count": 2,
   "metadata": {
    "collapsed": false,
    "deletable": true,
    "editable": true
   },
   "outputs": [
    {
     "data": {
      "image/png": "[encoded data removed]",
      "text/plain": [
       "<matplotlib.figure.Figure at 0x6810198>"
      ]
     },
     "metadata": {},
     "output_type": "display_data"
    }
   ],
   "source": [
    "%matplotlib inline\n",
    "import matplotlib.pyplot as plt\n",
    "plt.hist(incomes, 50)\n",
    "plt.show()"
   ]
  },
  {
   "cell_type": "markdown",
   "metadata": {
    "deletable": true,
    "editable": true
   },
   "source": [
    "Now compute the median - since we have a nice, even distribution it too should be close to 27,000:"
   ]
  },
  {
   "cell_type": "code",
   "execution_count": 5,
   "metadata": {
    "collapsed": false,
    "deletable": true,
    "editable": true
   },
   "outputs": [
    {
     "data": {
      "text/plain": [
       "27298.238796103222"
      ]
     },
     "execution_count": 5,
     "metadata": {},
     "output_type": "execute_result"
    }
   ],
   "source": [
    "np.median(incomes)"
   ]
  },
  {
   "cell_type": "markdown",
   "metadata": {
    "deletable": true,
    "editable": true
   },
   "source": [
    "Now we'll add Donald Trump into the mix. Darn income inequality!"
   ]
  },
  {
   "cell_type": "code",
   "execution_count": 6,
   "metadata": {
    "collapsed": false,
    "deletable": true,
    "editable": true
   },
   "outputs": [],
   "source": [
    "incomes = np.append(incomes, [1000000000])"
   ]
  },
  {
   "cell_type": "markdown",
   "metadata": {
    "deletable": true,
    "editable": true
   },
   "source": [
    "The median won't change much, but the mean does:"
   ]
  },
  {
   "cell_type": "code",
   "execution_count": 7,
   "metadata": {
    "collapsed": false,
    "deletable": true,
    "editable": true
   },
   "outputs": [
    {
     "data": {
      "text/plain": [
       "27302.148673452641"
      ]
     },
     "execution_count": 7,
     "metadata": {},
     "output_type": "execute_result"
    }
   ],
   "source": [
    "np.median(incomes)"
   ]
  },
  {
   "cell_type": "code",
   "execution_count": 8,
   "metadata": {
    "collapsed": false,
    "deletable": true,
    "editable": true
   },
   "outputs": [
    {
     "data": {
      "text/plain": [
       "127225.57145538353"
      ]
     },
     "execution_count": 8,
     "metadata": {},
     "output_type": "execute_result"
    }
   ],
   "source": [
    "np.mean(incomes)"
   ]
  },
  {
   "cell_type": "markdown",
   "metadata": {
    "deletable": true,
    "editable": true
   },
   "source": [
    "## Mode"
   ]
  },
  {
   "cell_type": "markdown",
   "metadata": {
    "deletable": true,
    "editable": true
   },
   "source": [
    "Next, let's generate some fake age data for 500 people:"
   ]
  },
  {
   "cell_type": "code",
   "execution_count": 17,
   "metadata": {
    "collapsed": false,
    "deletable": true,
    "editable": true
   },
   "outputs": [
    {
     "data": {
      "text/plain": [
       "array([65, 59, 20, 81, 89, 39, 76, 25, 57, 24, 20, 33, 19, 59, 56, 37, 30,\n",
       "       61, 59, 62, 57, 24, 18, 30, 35, 69, 81, 86, 30, 60, 40, 52, 25, 48,\n",
       "       42, 30, 88, 84, 34, 85, 50, 21, 76, 21, 44, 78, 44, 86, 66, 78, 20,\n",
       "       74, 53, 22, 21, 42, 60, 31, 74, 68, 45, 36, 70, 79, 49, 64, 59, 24,\n",
       "       52, 62, 67, 23, 48, 21, 41, 58, 85, 88, 34, 50, 25, 57, 27, 87, 70,\n",
       "       34, 34, 80, 74, 24, 87, 82, 30, 29, 32, 63, 63, 60, 45, 61, 51, 79,\n",
       "       72, 88, 86, 44, 56, 56, 32, 35, 46, 45, 30, 65, 35, 65, 73, 69, 47,\n",
       "       59, 71, 24, 37, 57, 32, 81, 75, 81, 58, 39, 36, 28, 52, 48, 28, 48,\n",
       "       64, 46, 53, 56, 18, 24, 20, 55, 64, 60, 41, 78, 41, 25, 38, 79, 65,\n",
       "       68, 44, 37, 19, 79, 81, 51, 19, 48, 67, 74, 35, 50, 43, 84, 66, 54,\n",
       "       43, 28, 38, 37, 67, 25, 49, 57, 57, 47, 55, 54, 20, 77, 39, 44, 20,\n",
       "       19, 59, 48, 20, 70, 88, 45, 31, 21, 26, 39, 82, 60, 84, 66, 47, 66,\n",
       "       80, 55, 18, 23, 58, 89, 66, 71, 55, 68, 28, 57, 29, 81, 26, 37, 84,\n",
       "       47, 63, 77, 71, 87, 73, 66, 23, 50, 21, 72, 29, 58, 59, 66, 27, 88,\n",
       "       62, 87, 69, 57, 27, 61, 35, 69, 70, 18, 79, 80, 35, 81, 46, 64, 58,\n",
       "       58, 40, 84, 74, 89, 67, 68, 80, 79, 18, 43, 87, 53, 51, 65, 33, 46,\n",
       "       69, 58, 41, 20, 67, 77, 62, 37, 38, 19, 24, 47, 74, 76, 66, 38, 86,\n",
       "       41, 87, 68, 51, 89, 19, 81, 55, 33, 22, 62, 51, 63, 56, 22, 48, 50,\n",
       "       28, 70, 68, 83, 88, 19, 46, 87, 36, 27, 54, 36, 40, 28, 26, 65, 33,\n",
       "       53, 32, 52, 69, 88, 40, 55, 22, 55, 25, 24, 59, 76, 28, 31, 73, 88,\n",
       "       84, 22, 81, 52, 79, 39, 81, 48, 46, 79, 30, 51, 87, 83, 81, 49, 19,\n",
       "       40, 30, 41, 24, 73, 31, 21, 71, 65, 85, 74, 18, 24, 59, 87, 39, 49,\n",
       "       19, 29, 29, 77, 29, 31, 63, 44, 18, 85, 89, 64, 64, 71, 66, 36, 79,\n",
       "       40, 24, 24, 78, 46, 77, 19, 35, 64, 58, 79, 75, 50, 57, 37, 75, 75,\n",
       "       80, 46, 37, 64, 21, 86, 50, 67, 80, 85, 36, 64, 83, 86, 38, 32, 18,\n",
       "       43, 89, 25, 36, 19, 82, 49, 71, 47, 76, 31, 57, 43, 62, 33, 34, 67,\n",
       "       43, 27, 60, 52, 66, 28, 77, 28, 42, 69, 68, 84, 76, 48, 40, 53, 18,\n",
       "       26, 65, 56, 28, 75, 70, 20, 85, 57, 61, 29, 89, 21, 38, 89, 26, 84,\n",
       "       84, 32, 73, 65, 52, 58, 79, 66, 22, 79, 32, 78, 79, 64, 80, 59, 30,\n",
       "       39, 74, 64, 19, 76, 28, 48])"
      ]
     },
     "execution_count": 17,
     "metadata": {},
     "output_type": "execute_result"
    }
   ],
   "source": [
    "ages = np.random.randint(18, high=90, size=500)\n",
    "ages"
   ]
  },
  {
   "cell_type": "code",
   "execution_count": 18,
   "metadata": {
    "collapsed": false,
    "deletable": true,
    "editable": true
   },
   "outputs": [
    {
     "data": {
      "text/plain": [
       "ModeResult(mode=array([79]), count=array([13]))"
      ]
     },
     "execution_count": 18,
     "metadata": {},
     "output_type": "execute_result"
    }
   ],
   "source": [
    "from scipy import stats\n",
    "stats.mode(ages)"
   ]
  },
  {
   "cell_type": "code",
   "execution_count": 3,
   "metadata": {
    "collapsed": false,
    "deletable": true,
    "editable": true
   },
   "outputs": [
    {
     "data": {
      "text/plain": [
       "array([  9529.18138313,  34152.06612023,  12403.52228869, ...,\n",
       "        28402.6566057 ,  21987.8566068 ,  33673.56213669])"
      ]
     },
     "execution_count": 3,
     "metadata": {},
     "output_type": "execute_result"
    }
   ],
   "source": [
    "incomes"
   ]
  },
  {
   "cell_type": "code",
   "execution_count": 4,
   "metadata": {
    "collapsed": false
   },
   "outputs": [
    {
     "data": {
      "text/plain": [
       "10000"
      ]
     },
     "execution_count": 4,
     "metadata": {},
     "output_type": "execute_result"
    }
   ],
   "source": [
    "len(incomes)"
   ]
  },
  {
   "cell_type": "code",
   "execution_count": 20,
   "metadata": {
    "collapsed": false
   },
   "outputs": [
    {
     "ename": "AttributeError",
     "evalue": "'numpy.ndarray' object has no attribute 'count'",
     "output_type": "error",
     "traceback": [
      "\u001b[1;31m---------------------------------------------------------------------------\u001b[0m",
      "\u001b[1;31mAttributeError\u001b[0m                            Traceback (most recent call last)",
      "\u001b[1;32m<ipython-input-20-9a9dbe6337dd>\u001b[0m in \u001b[0;36m<module>\u001b[1;34m()\u001b[0m\n\u001b[1;32m----> 1\u001b[1;33m \u001b[0mages\u001b[0m\u001b[1;33m.\u001b[0m\u001b[0mcount\u001b[0m\u001b[1;33m(\u001b[0m\u001b[1;36m79\u001b[0m\u001b[1;33m)\u001b[0m\u001b[1;33m\u001b[0m\u001b[0m\n\u001b[0m",
      "\u001b[1;31mAttributeError\u001b[0m: 'numpy.ndarray' object has no attribute 'count'"
     ]
    }
   ],
   "source": [
    "ages.count(79)\n"
   ]
  },
  {
   "cell_type": "code",
   "execution_count": 22,
   "metadata": {
    "collapsed": false
   },
   "outputs": [
    {
     "data": {
      "text/plain": [
       "13"
      ]
     },
     "execution_count": 22,
     "metadata": {},
     "output_type": "execute_result"
    }
   ],
   "source": [
    "len([a for a in ages if a == 79])"
   ]
  },
  {
   "cell_type": "code",
   "execution_count": null,
   "metadata": {
    "collapsed": true
   },
   "outputs": [],
   "source": []
  }
 ],
 "metadata": {
  "kernelspec": {
   "display_name": "Python 2",
   "language": "python",
   "name": "python2"
  },
  "language_info": {
   "codemirror_mode": {
    "name": "ipython",
    "version": 2
   },
   "file_extension": ".py",
   "mimetype": "text/x-python",
   "name": "python",
   "nbconvert_exporter": "python",
   "pygments_lexer": "ipython2",
   "version": "2.7.11"
  }
 },
 "nbformat": 4,
 "nbformat_minor": 0
}
